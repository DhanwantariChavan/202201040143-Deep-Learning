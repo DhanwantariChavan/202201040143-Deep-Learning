{
 "cells": [
  {
   "cell_type": "code",
   "execution_count": 6,
   "id": "1af5be46",
   "metadata": {},
   "outputs": [
    {
     "data": {
      "text/html": [
       "<div>\n",
       "<style scoped>\n",
       "    .dataframe tbody tr th:only-of-type {\n",
       "        vertical-align: middle;\n",
       "    }\n",
       "\n",
       "    .dataframe tbody tr th {\n",
       "        vertical-align: top;\n",
       "    }\n",
       "\n",
       "    .dataframe thead th {\n",
       "        text-align: right;\n",
       "    }\n",
       "</style>\n",
       "<table border=\"1\" class=\"dataframe\">\n",
       "  <thead>\n",
       "    <tr style=\"text-align: right;\">\n",
       "      <th></th>\n",
       "      <th>Id</th>\n",
       "      <th>SepalLengthCm</th>\n",
       "      <th>SepalWidthCm</th>\n",
       "      <th>PetalLengthCm</th>\n",
       "      <th>PetalWidthCm</th>\n",
       "      <th>Class Label</th>\n",
       "    </tr>\n",
       "  </thead>\n",
       "  <tbody>\n",
       "    <tr>\n",
       "      <th>0</th>\n",
       "      <td>1</td>\n",
       "      <td>5.1</td>\n",
       "      <td>3.5</td>\n",
       "      <td>1.4</td>\n",
       "      <td>0.2</td>\n",
       "      <td>Iris-setosa</td>\n",
       "    </tr>\n",
       "    <tr>\n",
       "      <th>1</th>\n",
       "      <td>2</td>\n",
       "      <td>4.9</td>\n",
       "      <td>3.0</td>\n",
       "      <td>1.4</td>\n",
       "      <td>0.2</td>\n",
       "      <td>Iris-setosa</td>\n",
       "    </tr>\n",
       "    <tr>\n",
       "      <th>2</th>\n",
       "      <td>3</td>\n",
       "      <td>4.7</td>\n",
       "      <td>3.2</td>\n",
       "      <td>1.3</td>\n",
       "      <td>0.2</td>\n",
       "      <td>Iris-setosa</td>\n",
       "    </tr>\n",
       "    <tr>\n",
       "      <th>3</th>\n",
       "      <td>4</td>\n",
       "      <td>4.6</td>\n",
       "      <td>3.1</td>\n",
       "      <td>1.5</td>\n",
       "      <td>0.2</td>\n",
       "      <td>Iris-setosa</td>\n",
       "    </tr>\n",
       "    <tr>\n",
       "      <th>4</th>\n",
       "      <td>5</td>\n",
       "      <td>5.0</td>\n",
       "      <td>3.6</td>\n",
       "      <td>1.4</td>\n",
       "      <td>0.2</td>\n",
       "      <td>Iris-setosa</td>\n",
       "    </tr>\n",
       "  </tbody>\n",
       "</table>\n",
       "</div>"
      ],
      "text/plain": [
       "   Id  SepalLengthCm  SepalWidthCm  PetalLengthCm  PetalWidthCm  Class Label\n",
       "0   1            5.1           3.5            1.4           0.2  Iris-setosa\n",
       "1   2            4.9           3.0            1.4           0.2  Iris-setosa\n",
       "2   3            4.7           3.2            1.3           0.2  Iris-setosa\n",
       "3   4            4.6           3.1            1.5           0.2  Iris-setosa\n",
       "4   5            5.0           3.6            1.4           0.2  Iris-setosa"
      ]
     },
     "execution_count": 6,
     "metadata": {},
     "output_type": "execute_result"
    }
   ],
   "source": [
    "import numpy as np\n",
    "import pandas as pd\n",
    "from sklearn.model_selection import train_test_split\n",
    "from sklearn.preprocessing import OneHotEncoder, StandardScaler\n",
    "\n",
    "# Load the uploaded dataset\n",
    "data = pd.read_csv('Iris.csv')\n",
    "\n",
    "# Display the first few rows of the dataset to understand its structure\n",
    "data.head()\n"
   ]
  },
  {
   "cell_type": "markdown",
   "id": "e3c468cc",
   "metadata": {},
   "source": [
    "### Preprocessing"
   ]
  },
  {
   "cell_type": "code",
   "execution_count": 7,
   "id": "ae9ec321",
   "metadata": {},
   "outputs": [],
   "source": [
    "\n",
    "X = data.iloc[:, :-1].values  # Features (sepal_length, sepal_width, petal_length, petal_width)\n",
    "y = data.iloc[:, -1].values   # Target (species)"
   ]
  },
  {
   "cell_type": "code",
   "execution_count": 8,
   "id": "92f4c939",
   "metadata": {},
   "outputs": [],
   "source": [
    "# Encode target labels to one-hot format\n",
    "encoder = OneHotEncoder()\n",
    "y = encoder.fit_transform(y.reshape(-1, 1)).toarray()"
   ]
  },
  {
   "cell_type": "code",
   "execution_count": 9,
   "id": "1ec4b136",
   "metadata": {},
   "outputs": [],
   "source": [
    "# Standardize the features\n",
    "scaler = StandardScaler()\n",
    "X = scaler.fit_transform(X)"
   ]
  },
  {
   "cell_type": "code",
   "execution_count": 10,
   "id": "27557991",
   "metadata": {},
   "outputs": [],
   "source": [
    "# Split the dataset into training and testing sets\n",
    "X_train, X_test, y_train, y_test = train_test_split(X, y, test_size=0.2, random_state=42)\n"
   ]
  },
  {
   "cell_type": "markdown",
   "id": "6d131012",
   "metadata": {},
   "source": [
    "###  Define the Neural Network Architecture"
   ]
  },
  {
   "cell_type": "code",
   "execution_count": 11,
   "id": "52d85dae",
   "metadata": {},
   "outputs": [],
   "source": [
    "\n",
    "input_size = X.shape[1]  # Number of input features\n",
    "hidden_size = 5          # Number of neurons in the hidden layer\n",
    "output_size = y.shape[1] # Number of output classes (species)"
   ]
  },
  {
   "cell_type": "markdown",
   "id": "3cc70391",
   "metadata": {},
   "source": [
    "### Initialize weights and biases"
   ]
  },
  {
   "cell_type": "code",
   "execution_count": 12,
   "id": "6a87a5f3",
   "metadata": {},
   "outputs": [],
   "source": [
    "\n",
    "np.random.seed(42)\n",
    "weights_input_hidden = np.random.randn(input_size, hidden_size)\n",
    "bias_hidden = np.zeros((1, hidden_size))\n",
    "weights_hidden_output = np.random.randn(hidden_size, output_size)\n",
    "bias_output = np.zeros((1, output_size))"
   ]
  },
  {
   "cell_type": "markdown",
   "id": "f6f40448",
   "metadata": {},
   "source": [
    "### Activation functions"
   ]
  },
  {
   "cell_type": "code",
   "execution_count": 13,
   "id": "889ded5e",
   "metadata": {},
   "outputs": [],
   "source": [
    "\n",
    "def sigmoid(x):\n",
    "    return 1 / (1 + np.exp(-x))\n",
    "\n",
    "def sigmoid_derivative(x):\n",
    "    return x * (1 - x)\n",
    "\n",
    "def softmax(x):\n",
    "    exp_values = np.exp(x - np.max(x, axis=1, keepdims=True))\n",
    "    return exp_values / np.sum(exp_values, axis=1, keepdims=True)"
   ]
  },
  {
   "cell_type": "markdown",
   "id": "1e2bf1f1",
   "metadata": {},
   "source": [
    "### Loss function"
   ]
  },
  {
   "cell_type": "code",
   "execution_count": 14,
   "id": "e6f81d65",
   "metadata": {},
   "outputs": [],
   "source": [
    "def cross_entropy_loss(y_true, y_pred):\n",
    "    return -np.mean(np.sum(y_true * np.log(y_pred + 1e-9), axis=1))"
   ]
  },
  {
   "cell_type": "markdown",
   "id": "8e6d5e08",
   "metadata": {},
   "source": [
    "### Forward pass"
   ]
  },
  {
   "cell_type": "code",
   "execution_count": 15,
   "id": "0208a7fc",
   "metadata": {},
   "outputs": [],
   "source": [
    "\n",
    "def forward_pass(X):\n",
    "    hidden_input = np.dot(X, weights_input_hidden) + bias_hidden\n",
    "    hidden_output = sigmoid(hidden_input)\n",
    "\n",
    "    output_input = np.dot(hidden_output, weights_hidden_output) + bias_output\n",
    "    output_output = softmax(output_input)\n",
    "\n",
    "    return hidden_output, output_output"
   ]
  },
  {
   "cell_type": "markdown",
   "id": "0a353bde",
   "metadata": {},
   "source": [
    "### Backpropagation"
   ]
  },
  {
   "cell_type": "code",
   "execution_count": 16,
   "id": "25ee9f20",
   "metadata": {},
   "outputs": [],
   "source": [
    "\n",
    "def backward_pass(X, y, hidden_output, output_output, learning_rate):\n",
    "    global weights_input_hidden, bias_hidden, weights_hidden_output, bias_output\n",
    "\n",
    "    # Output layer error\n",
    "    output_error = output_output - y\n",
    "    output_gradient = np.dot(hidden_output.T, output_error)\n",
    "\n",
    "    # Hidden layer error\n",
    "    hidden_error = np.dot(output_error, weights_hidden_output.T) * sigmoid_derivative(hidden_output)\n",
    "    hidden_gradient = np.dot(X.T, hidden_error)\n",
    "\n",
    "    # Update weights and biases\n",
    "    weights_hidden_output -= learning_rate * output_gradient\n",
    "    bias_output -= learning_rate * np.sum(output_error, axis=0, keepdims=True)\n",
    "    weights_input_hidden -= learning_rate * hidden_gradient\n",
    "    bias_hidden -= learning_rate * np.sum(hidden_error, axis=0, keepdims=True)"
   ]
  },
  {
   "cell_type": "markdown",
   "id": "39b00397",
   "metadata": {},
   "source": [
    "### Training the Neural Network"
   ]
  },
  {
   "cell_type": "code",
   "execution_count": 17,
   "id": "53fcbc7d",
   "metadata": {},
   "outputs": [
    {
     "name": "stdout",
     "output_type": "stream",
     "text": [
      "Epoch 0, Loss: 2.1255\n",
      "Epoch 100, Loss: 0.0615\n",
      "Epoch 200, Loss: 0.0245\n",
      "Epoch 300, Loss: 0.0145\n",
      "Epoch 400, Loss: 0.0101\n",
      "Epoch 500, Loss: 0.0077\n",
      "Epoch 600, Loss: 0.0062\n",
      "Epoch 700, Loss: 0.0051\n",
      "Epoch 800, Loss: 0.0044\n",
      "Epoch 900, Loss: 0.0038\n"
     ]
    }
   ],
   "source": [
    "\n",
    "epochs = 1000\n",
    "learning_rate = 0.01\n",
    "\n",
    "for epoch in range(epochs):\n",
    "    # Forward pass\n",
    "    hidden_output, output_output = forward_pass(X_train)\n",
    "\n",
    "    # Compute loss\n",
    "    loss = cross_entropy_loss(y_train, output_output)\n",
    "\n",
    "    # Backward pass\n",
    "    backward_pass(X_train, y_train, hidden_output, output_output, learning_rate)\n",
    "\n",
    "    if epoch % 100 == 0:\n",
    "        print(f\"Epoch {epoch}, Loss: {loss:.4f}\")"
   ]
  },
  {
   "cell_type": "markdown",
   "id": "a5bdf486",
   "metadata": {},
   "source": [
    "### Testing the Model"
   ]
  },
  {
   "cell_type": "code",
   "execution_count": 18,
   "id": "957e992c",
   "metadata": {},
   "outputs": [
    {
     "name": "stdout",
     "output_type": "stream",
     "text": [
      "Test Accuracy: 100.00%\n"
     ]
    }
   ],
   "source": [
    "\n",
    "_, y_pred = forward_pass(X_test)\n",
    "y_pred_classes = np.argmax(y_pred, axis=1)\n",
    "y_true_classes = np.argmax(y_test, axis=1)\n",
    "\n",
    "accuracy = np.mean(y_pred_classes == y_true_classes)\n",
    "print(f\"Test Accuracy: {accuracy * 100:.2f}%\")"
   ]
  }
 ],
 "metadata": {
  "kernelspec": {
   "display_name": "Python 3 (ipykernel)",
   "language": "python",
   "name": "python3"
  },
  "language_info": {
   "codemirror_mode": {
    "name": "ipython",
    "version": 3
   },
   "file_extension": ".py",
   "mimetype": "text/x-python",
   "name": "python",
   "nbconvert_exporter": "python",
   "pygments_lexer": "ipython3",
   "version": "3.10.9"
  }
 },
 "nbformat": 4,
 "nbformat_minor": 5
}
